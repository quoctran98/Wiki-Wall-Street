{
 "cells": [
  {
   "cell_type": "code",
   "execution_count": 2,
   "metadata": {},
   "outputs": [],
   "source": [
    "from server.helper import *\n",
    "import pymongo"
   ]
  },
  {
   "cell_type": "code",
   "execution_count": 22,
   "metadata": {},
   "outputs": [
    {
     "name": "stdout",
     "output_type": "stream",
     "text": [
      "{'_id': ObjectId('6461a43021ab6e8f13a20d0f'), 'game_id': 'game_e0f0963707154fae93a8809483b810b0', 'name': 'New Game', 'owner_id': 'user_5edf38c8a478479e94f58931825a322f', 'user_ids': ['user_5edf38c8a478479e94f58931825a322f', 'user_52238a2ee83c499483e86613c7f7ac20'], 'settings': {'starting_cash': 100000.0, 'views_limit': 10, 'show_cash': True, 'show_articles': True, 'show_number': True}, 'players': ['Quoc', 'Quoc2', 'Logan Vo'], 'transactions': ['tx_e1cbac8557e543dea10a9a51aef038c5', 'tx_36b3534924914c6bac152be1404cfd40', 'tx_efc734e107d4451abfce81a45b0a8903', 'tx_e5287cb244dc4237b9063403fadd7eed', 'tx_95e82cf031b9491dafe6e58dd5bf8538', 'tx_6d32c42b44674b35a2c97dff5337a9ed', 'tx_33c6edb268ca4da59ec5dce2187bde7d', 'tx_6f5ab2f2df704485815dbf10fc250c3b', 'tx_1facb6e25606458b8595904f45eaacbf'], 'public': True}\n"
     ]
    }
   ],
   "source": [
    "for game in active_games_coll.find():\n",
    "    print(game)"
   ]
  },
  {
   "cell_type": "code",
   "execution_count": 23,
   "metadata": {},
   "outputs": [
    {
     "name": "stdout",
     "output_type": "stream",
     "text": [
      "{'_id': ObjectId('6461a41e9415daee2e59f2a8'), 'email': 'quoctran1998@gmail.com', 'name': 'Quoc', 'password': 'sha256$qovroyxpYXs9dTyl$9452b280d4f3c9b3a81ab8d6f268bba37ad92bfb270e37760fe8a1fc13e0c9cd', 'signup_time': datetime.datetime(2023, 5, 15, 3, 16, 46, 225000), 'joined_games': ['game_e0f0963707154fae93a8809483b810b0'], 'user_id': 'user_5edf38c8a478479e94f58931825a322f'}\n",
      "{'_id': ObjectId('6461bd39c083dad15aca742d'), 'email': 'billtran2002@gmail.com', 'name': 'bill', 'password': 'sha256$AI2XoT8jvP1ICLNX$90ce33934b4460ebc33e00404869f9fe1b206949e1a8943ff397db45af936156', 'signup_time': datetime.datetime(2023, 5, 15, 5, 3, 53, 148000), 'joined_games': [], 'user_id': 'user_3747386b028a4aec892829846d093c50'}\n",
      "{'_id': ObjectId('6461d13ccb032049fcef889c'), 'email': 'loganvo123@hotmail.com', 'name': 'Logan Vo', 'password': 'sha256$1zPpcyRpGGYx3Wje$ac2359406715fe436a906496c38208e3c80ee3fc50ad549c31b1e7bd3450ac11', 'signup_time': datetime.datetime(2023, 5, 15, 6, 29, 16, 86000), 'joined_games': ['game_e0f0963707154fae93a8809483b810b0'], 'user_id': 'user_52238a2ee83c499483e86613c7f7ac20'}\n",
      "{'_id': ObjectId('6461d2a0404eaf1e8184cbea'), 'email': 'quoc@quoc.com', 'name': 'Quoc2', 'password': 'sha256$3TOpSxpObPAUJQ4b$2b5729b55baff8a2d3c6734b228e321e34121557b8ec98787b1d5153a0d2bfcf', 'signup_time': datetime.datetime(2023, 5, 14, 23, 35, 12, 677000), 'joined_games': [], 'user_id': 'user_3e1719da679d47d4bad7610607285c50'}\n"
     ]
    }
   ],
   "source": [
    "for user in active_users_coll.find():\n",
    "    print(user)"
   ]
  },
  {
   "cell_type": "code",
   "execution_count": 24,
   "metadata": {},
   "outputs": [
    {
     "name": "stdout",
     "output_type": "stream",
     "text": [
      "{'_id': ObjectId('6461a4359415daee2e59f2a9'), 'tx_id': 'tx_e1cbac8557e543dea10a9a51aef038c5', 'player_id': 'player_45501b2e4f19448e900899934524430f', 'article_id': 'Minecraft', 'price': -54095.21026661464, 'quantity': 5, 'timestamp': datetime.datetime(2023, 5, 15, 3, 17, 9, 374000)}\n",
      "{'_id': ObjectId('6461b486274c30d4786e47aa'), 'tx_id': 'tx_36b3534924914c6bac152be1404cfd40', 'player_id': 'player_45501b2e4f19448e900899934524430f', 'article_id': 'Roblox', 'price': -9171.083114984685, 'quantity': 1, 'timestamp': datetime.datetime(2023, 5, 14, 21, 26, 46, 449000)}\n",
      "{'_id': ObjectId('6461b4c3274c30d4786e47ab'), 'tx_id': 'tx_efc734e107d4451abfce81a45b0a8903', 'player_id': 'player_45501b2e4f19448e900899934524430f', 'article_id': 'Fortnite', 'price': -2511.221149642171, 'quantity': 1, 'timestamp': datetime.datetime(2023, 5, 14, 21, 27, 47, 811000)}\n",
      "{'_id': ObjectId('6461b4d3274c30d4786e47ac'), 'tx_id': 'tx_e5287cb244dc4237b9063403fadd7eed', 'player_id': 'player_45501b2e4f19448e900899934524430f', 'article_id': 'Subway Surfers', 'price': -1320.2833819942432, 'quantity': 1, 'timestamp': datetime.datetime(2023, 5, 14, 21, 28, 3, 747000)}\n",
      "{'_id': ObjectId('6461b4fd274c30d4786e47ad'), 'tx_id': 'tx_95e82cf031b9491dafe6e58dd5bf8538', 'player_id': 'player_45501b2e4f19448e900899934524430f', 'article_id': 'Subway (restaurant)', 'price': -8579.925751638932, 'quantity': 5, 'timestamp': datetime.datetime(2023, 5, 14, 21, 28, 45, 34000)}\n",
      "{'_id': ObjectId('6461b544274c30d4786e47ae'), 'tx_id': 'tx_6d32c42b44674b35a2c97dff5337a9ed', 'player_id': 'player_45501b2e4f19448e900899934524430f', 'article_id': 'Breakfast', 'price': -8105.658499035775, 'quantity': 10, 'timestamp': datetime.datetime(2023, 5, 14, 21, 29, 56, 217000)}\n",
      "{'_id': ObjectId('6461b562274c30d4786e47af'), 'tx_id': 'tx_33c6edb268ca4da59ec5dce2187bde7d', 'player_id': 'player_45501b2e4f19448e900899934524430f', 'article_id': 'Eggs Benedict', 'price': -9193.11977520665, 'quantity': 5, 'timestamp': datetime.datetime(2023, 5, 14, 21, 30, 26, 134000)}\n",
      "{'_id': ObjectId('6461bb4e0e70198547ec53fe'), 'tx_id': 'tx_6f5ab2f2df704485815dbf10fc250c3b', 'player_id': 'player_45501b2e4f19448e900899934524430f', 'article_id': 'Mafia Mamma', 'price': -5464.133619385464, 'quantity': 1, 'timestamp': datetime.datetime(2023, 5, 15, 4, 55, 42, 996000)}\n",
      "{'_id': ObjectId('6461da4591293f23e49fe913'), 'tx_id': 'tx_1facb6e25606458b8595904f45eaacbf', 'player_id': 'player_c40bec85af3849bba394fa4ca309b025', 'article_id': 'Electric Daisy Carnival', 'price': -5490.002742254727, 'quantity': 10, 'timestamp': datetime.datetime(2023, 5, 15, 7, 7, 49, 936000)}\n"
     ]
    }
   ],
   "source": [
    "GAME_ID = \"game_e0f0963707154fae93a8809483b810b0\"\n",
    "\n",
    "# List all transactions documents for this game\n",
    "for transaction in transactions_db[GAME_ID].find():\n",
    "    print(transaction)"
   ]
  },
  {
   "cell_type": "code",
   "execution_count": 25,
   "metadata": {},
   "outputs": [
    {
     "name": "stdout",
     "output_type": "stream",
     "text": [
      "{'_id': ObjectId('6461a43121ab6e8f13a20d10'), 'player_id': 'player_45501b2e4f19448e900899934524430f', 'user_id': 'user_5edf38c8a478479e94f58931825a322f', 'game_id': 'game_e0f0963707154fae93a8809483b810b0', 'name': 'Quoc', 'cash': 1559.364441497435, 'articles': {'Minecraft': 5, 'Roblox': 1, 'Fortnite': 1, 'Subway Surfers': 1, 'Subway (restaurant)': 5, 'Breakfast': 10, 'Eggs Benedict': 5, 'Mafia Mamma': 1}, 'avg_price': {'Minecraft': 10819.042053322928, 'Roblox': 9171.083114984685, 'Fortnite': 2511.221149642171, 'Subway Surfers': 1320.2833819942432, 'Subway (restaurant)': 1715.9851503277864, 'Breakfast': 810.5658499035775, 'Eggs Benedict': 1838.6239550413297, 'Mafia Mamma': 5464.133619385464}, 'transactions': ['tx_e1cbac8557e543dea10a9a51aef038c5', 'tx_36b3534924914c6bac152be1404cfd40', 'tx_efc734e107d4451abfce81a45b0a8903', 'tx_e5287cb244dc4237b9063403fadd7eed', 'tx_95e82cf031b9491dafe6e58dd5bf8538', 'tx_6d32c42b44674b35a2c97dff5337a9ed', 'tx_33c6edb268ca4da59ec5dce2187bde7d', 'tx_6f5ab2f2df704485815dbf10fc250c3b'], 'value_history': [{'timestamp': datetime.datetime(2023, 5, 15, 3, 17, 5, 21000), 'value': 100000.0}]}\n",
      "{'_id': ObjectId('6461d41a91293f23e49fe912'), 'player_id': 'player_c40bec85af3849bba394fa4ca309b025', 'user_id': 'user_52238a2ee83c499483e86613c7f7ac20', 'game_id': 'game_e0f0963707154fae93a8809483b810b0', 'name': 'Logan Vo', 'cash': 94509.99725774527, 'articles': {'Electric Daisy Carnival': 10}, 'avg_price': {'Electric Daisy Carnival': 549.0002742254727}, 'transactions': ['tx_1facb6e25606458b8595904f45eaacbf'], 'value_history': [{'timestamp': datetime.datetime(2023, 5, 15, 6, 41, 30, 793000), 'value': 100000.0}]}\n"
     ]
    }
   ],
   "source": [
    "GAME_ID = \"game_e0f0963707154fae93a8809483b810b0\"\n",
    "\n",
    "# List all players documents for this game\n",
    "for player in players_db[GAME_ID].find():\n",
    "    print(player)"
   ]
  },
  {
   "cell_type": "code",
   "execution_count": 4,
   "metadata": {},
   "outputs": [],
   "source": [
    "USER_ID = \"user_3e1719da679d47d4bad7610607285c50\"\n",
    "\n",
    "USER_NAME = active_users_coll.find_one(\n",
    "    {\"user_id\": USER_ID}\n",
    ")[\"name\"]"
   ]
  },
  {
   "cell_type": "code",
   "execution_count": 21,
   "metadata": {},
   "outputs": [
    {
     "data": {
      "text/plain": [
       "<pymongo.results.DeleteResult at 0x114df55c0>"
      ]
     },
     "execution_count": 21,
     "metadata": {},
     "output_type": "execute_result"
    }
   ],
   "source": [
    "# Remove a player from a game:\n",
    "# Remove them from the array in the game document in active_games_coll\n",
    "# Remove the game in their array from the users document in active_users_coll\n",
    "# Remove their document from the game collection in players_db\n",
    "# Remove all documents with their name from the game collection in transactions_db\n",
    "\n",
    "GAME_ID = \"game_e0f0963707154fae93a8809483b810b0\"\n",
    "USER_ID = \"user_3e1719da679d47d4bad7610607285c50\"\n",
    "\n",
    "USER_NAME = active_users_coll.find_one(\n",
    "    {\"user_id\": USER_ID}\n",
    ")[\"user_name\"]\n",
    "\n",
    "PLAYER_ID = players_db[GAME_ID].find_one(\n",
    "    {\"user_id\": USER_ID}\n",
    ")[\"player_id\"]\n",
    "\n",
    "# Remove user's id and name from game\n",
    "active_games_coll.update_one(\n",
    "    {\"game_id\": GAME_ID}, {\"$pull\": {\"user_ids\": USER_ID,\n",
    "                                     \"players\": USER_NAME}}\n",
    ")\n",
    "\n",
    "# Remove game from player\n",
    "active_users_coll.update_one(\n",
    "    {\"user_id\": USER_ID}, {\"$pull\": {\"joined_games\": GAME_ID}}\n",
    ")\n",
    "\n",
    "# Remove player document from game\n",
    "players_db[GAME_ID].delete_one(\n",
    "    {\"user_id\": USER_ID}\n",
    ")\n",
    "\n",
    "# Remove all transactions for player from game\n",
    "transactions_db[GAME_ID].delete_many(\n",
    "    {\"player_id\": PLAYER_ID}\n",
    ")\n"
   ]
  }
 ],
 "metadata": {
  "kernelspec": {
   "display_name": "Python 3",
   "language": "python",
   "name": "python3"
  },
  "language_info": {
   "codemirror_mode": {
    "name": "ipython",
    "version": 3
   },
   "file_extension": ".py",
   "mimetype": "text/x-python",
   "name": "python",
   "nbconvert_exporter": "python",
   "pygments_lexer": "ipython3",
   "version": "3.11.3"
  },
  "orig_nbformat": 4
 },
 "nbformat": 4,
 "nbformat_minor": 2
}
